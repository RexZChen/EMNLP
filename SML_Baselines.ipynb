{
  "nbformat": 4,
  "nbformat_minor": 0,
  "metadata": {
    "colab": {
      "name": "sml_baseline.ipynb",
      "provenance": [],
      "collapsed_sections": []
    },
    "kernelspec": {
      "name": "python3",
      "display_name": "Python 3"
    },
    "accelerator": "TPU"
  },
  "cells": [
    {
      "cell_type": "code",
      "metadata": {
        "id": "Qb_t9Il_c8Sd",
        "colab_type": "code",
        "colab": {}
      },
      "source": [
        "import numpy as np\n",
        "import sklearn\n",
        "import pandas as pd"
      ],
      "execution_count": 0,
      "outputs": []
    },
    {
      "cell_type": "code",
      "metadata": {
        "id": "-FYTKgcLnQ_M",
        "colab_type": "code",
        "colab": {}
      },
      "source": [
        "df = pd.read_csv(\"/content/drive/My Drive/prepped_training_42_300.csv\")"
      ],
      "execution_count": 0,
      "outputs": []
    },
    {
      "cell_type": "code",
      "metadata": {
        "id": "Qk3LR6JHpshR",
        "colab_type": "code",
        "colab": {}
      },
      "source": [
        "def data_gathering(dataset):\n",
        "    # word_position; euclidean_dist; cosine_similarity; meanGrade\n",
        "    pos = dataset[\"word_position\"]\n",
        "    dist = dataset[\"euclidean_dist\"]\n",
        "    cosine = dataset[\"cosine_similarity\"]\n",
        "    labels = dataset[\"meanGrade\"]\n",
        "\n",
        "    res = []\n",
        "    for sample in zip(pos, dist, cosine, labels):\n",
        "        res.append(sample)\n",
        "    \n",
        "    return res"
      ],
      "execution_count": 0,
      "outputs": []
    },
    {
      "cell_type": "code",
      "metadata": {
        "id": "UhCpZqj-qkqm",
        "colab_type": "code",
        "colab": {}
      },
      "source": [
        "file_ = data_gathering(df)"
      ],
      "execution_count": 0,
      "outputs": []
    },
    {
      "cell_type": "code",
      "metadata": {
        "id": "uY6drCUyqnv3",
        "colab_type": "code",
        "colab": {}
      },
      "source": [
        "train_file = file_[:9000]\n",
        "dev_file = file_[9000:]"
      ],
      "execution_count": 0,
      "outputs": []
    },
    {
      "cell_type": "code",
      "metadata": {
        "id": "VVxIdGqhq0rP",
        "colab_type": "code",
        "outputId": "ae4d043a-0f14-42f1-d762-138b8b7df8f1",
        "colab": {
          "base_uri": "https://localhost:8080/",
          "height": 51
        }
      },
      "source": [
        "print(len(train_file))\n",
        "print(len(dev_file))"
      ],
      "execution_count": 0,
      "outputs": [
        {
          "output_type": "stream",
          "text": [
            "9000\n",
            "652\n"
          ],
          "name": "stdout"
        }
      ]
    },
    {
      "cell_type": "code",
      "metadata": {
        "id": "pusARkatr3eO",
        "colab_type": "code",
        "outputId": "d1d62efd-0560-4ddc-97ac-8222ebc1ac3f",
        "colab": {
          "base_uri": "https://localhost:8080/",
          "height": 71
        }
      },
      "source": [
        "print(train_file[:5])\n",
        "print(dev_file[:5])"
      ],
      "execution_count": 0,
      "outputs": [
        {
          "output_type": "stream",
          "text": [
            "[(9, 8.197883643927135, 0.2141603500526288, 0.2), (9, 9.307773096829965, 0.11372673882406835, 1.6), (9, 7.660888114230268, 0.4678837186045402, 1.0), (8, 7.9084872210253385, 0.2263354734008524, 0.4), (8, 8.428828916308051, 0.36457678071329996, 0.0)]\n",
            "[(13, 8.371108821738423, 0.1666689677035366, 0.8), (1, 8.854715381965244, 0.1910046504642192, 0.0), (2, 8.774286993926099, 0.19806028336996406, 0.8), (5, 6.581469222362906, 0.5051757200549978, 0.2), (4, 7.3611773573596935, 0.41003046243312413, 1.4)]\n"
          ],
          "name": "stdout"
        }
      ]
    },
    {
      "cell_type": "code",
      "metadata": {
        "id": "iGu9s3_Eq4dF",
        "colab_type": "code",
        "colab": {}
      },
      "source": [
        "def attr_labels_gathering(data):\n",
        "  attr_res = []\n",
        "  labels_res = []\n",
        "  for samples in data:\n",
        "    attr_res.append(samples[:3])\n",
        "    labels_res.append(samples[-1])\n",
        "    \n",
        "  labels_res = np.array(labels_res)\n",
        "  return attr_res, labels_res"
      ],
      "execution_count": 0,
      "outputs": []
    },
    {
      "cell_type": "code",
      "metadata": {
        "id": "JczdJTa0rk7X",
        "colab_type": "code",
        "colab": {}
      },
      "source": [
        "x_train, y_train = attr_labels_gathering(train_file)\n",
        "x_test, y_test = attr_labels_gathering(dev_file)"
      ],
      "execution_count": 0,
      "outputs": []
    },
    {
      "cell_type": "code",
      "metadata": {
        "id": "a9ga9L2IrsuN",
        "colab_type": "code",
        "outputId": "debc6ea6-202b-401f-fe2e-47a7e16e3d7d",
        "colab": {
          "base_uri": "https://localhost:8080/",
          "height": 85
        }
      },
      "source": [
        "print(y_train.shape)\n",
        "print(y_test.shape)\n",
        "print(x_train[0])\n",
        "print(x_test[0])"
      ],
      "execution_count": 0,
      "outputs": [
        {
          "output_type": "stream",
          "text": [
            "(9000,)\n",
            "(652,)\n",
            "(9, 8.197883643927135, 0.2141603500526288)\n",
            "(13, 8.371108821738423, 0.1666689677035366)\n"
          ],
          "name": "stdout"
        }
      ]
    },
    {
      "cell_type": "code",
      "metadata": {
        "id": "KCYrdGj5rweE",
        "colab_type": "code",
        "colab": {}
      },
      "source": [
        "from sklearn import linear_model\n",
        "from sklearn import svm\n",
        "from sklearn.kernel_ridge import KernelRidge\n",
        "from sklearn.neighbors import KNeighborsRegressor\n",
        "from sklearn.tree import DecisionTreeRegressor"
      ],
      "execution_count": 0,
      "outputs": []
    },
    {
      "cell_type": "code",
      "metadata": {
        "id": "dttIDiz-s0D3",
        "colab_type": "code",
        "outputId": "b5d40032-f0d7-45f3-e945-7e43d826ec87",
        "colab": {
          "base_uri": "https://localhost:8080/",
          "height": 119
        }
      },
      "source": [
        "reg = DecisionTreeRegressor()\n",
        "reg.fit(x_train, y_train)"
      ],
      "execution_count": 0,
      "outputs": [
        {
          "output_type": "execute_result",
          "data": {
            "text/plain": [
              "DecisionTreeRegressor(ccp_alpha=0.0, criterion='mse', max_depth=None,\n",
              "                      max_features=None, max_leaf_nodes=None,\n",
              "                      min_impurity_decrease=0.0, min_impurity_split=None,\n",
              "                      min_samples_leaf=1, min_samples_split=2,\n",
              "                      min_weight_fraction_leaf=0.0, presort='deprecated',\n",
              "                      random_state=None, splitter='best')"
            ]
          },
          "metadata": {
            "tags": []
          },
          "execution_count": 121
        }
      ]
    },
    {
      "cell_type": "code",
      "metadata": {
        "id": "mGONkmBhs7nZ",
        "colab_type": "code",
        "outputId": "7c101b80-1d1a-4dd7-e3f8-0f9348fa25db",
        "colab": {
          "base_uri": "https://localhost:8080/",
          "height": 34
        }
      },
      "source": [
        "from sklearn.metrics import mean_squared_error\n",
        "predictions = reg.predict(x_test)\n",
        "print(mean_squared_error(y_test, predictions))"
      ],
      "execution_count": 0,
      "outputs": [
        {
          "output_type": "stream",
          "text": [
            "0.6002985142499522\n"
          ],
          "name": "stdout"
        }
      ]
    }
  ]
}